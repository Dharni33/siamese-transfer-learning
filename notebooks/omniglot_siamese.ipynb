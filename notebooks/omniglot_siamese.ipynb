{
 "cells": [
  {
   "cell_type": "markdown",
   "metadata": {},
   "source": [
    "### Imports"
   ]
  },
  {
   "cell_type": "code",
   "execution_count": 1,
   "metadata": {
    "collapsed": true
   },
   "outputs": [],
   "source": [
    "from __future__ import print_function\n",
    "import os\n",
    "os.environ[\"CUDA_DEVICE_ORDER\"]=\"PCI_BUS_ID\"\n",
    "os.environ[\"CUDA_VISIBLE_DEVICES\"]=\"1\""
   ]
  },
  {
   "cell_type": "code",
   "execution_count": 2,
   "metadata": {},
   "outputs": [
    {
     "name": "stderr",
     "output_type": "stream",
     "text": [
      "Using TensorFlow backend.\n"
     ]
    }
   ],
   "source": [
    "from keras.datasets import mnist\n",
    "from keras.models import Sequential, Model\n",
    "from keras.layers import Dense, Dropout, Flatten, Lambda, Input, Subtract, Activation\n",
    "from keras.layers import Conv2D, MaxPooling2D\n",
    "from keras import backend as K\n",
    "import tensorflow as tf\n",
    "import h5py\n",
    "import cv2\n",
    "import numpy as np\n",
    "import matplotlib; matplotlib.use('Agg')\n",
    "import matplotlib.pyplot as plt"
   ]
  },
  {
   "cell_type": "code",
   "execution_count": 3,
   "metadata": {},
   "outputs": [
    {
     "name": "stdout",
     "output_type": "stream",
     "text": [
      "[u'/gpu:0']\n"
     ]
    }
   ],
   "source": [
    "from keras.backend.tensorflow_backend import set_session\n",
    "from utils import limited_gpu_memory_session, get_available_gpus\n",
    "set_session(limited_gpu_memory_session(0.95))\n",
    "print(get_available_gpus())"
   ]
  },
  {
   "cell_type": "code",
   "execution_count": 4,
   "metadata": {
    "collapsed": true
   },
   "outputs": [],
   "source": [
    "DATA_DIR = '/home/Drive2/rishabh/'\n",
    "INIT_WEIGHTS = os.path.join(DATA_DIR, 'init_weights_omniglot.hdf5')\n",
    "CHECKPOINTED_WEIGHTS = os.path.join(DATA_DIR, 'checkpointed_weights_omniglot.hdf5')"
   ]
  },
  {
   "cell_type": "code",
   "execution_count": 5,
   "metadata": {
    "collapsed": true
   },
   "outputs": [],
   "source": [
    "### Load the test and train datasets"
   ]
  },
  {
   "cell_type": "code",
   "execution_count": 6,
   "metadata": {
    "scrolled": true
   },
   "outputs": [
    {
     "name": "stdout",
     "output_type": "stream",
     "text": [
      "Found 19280 images belonging to 964 classes.\n",
      "Found 13180 images belonging to 659 classes.\n"
     ]
    }
   ],
   "source": [
    "from keras.preprocessing.image import ImageDataGenerator\n",
    "image_width = 105\n",
    "image_height = 105\n",
    "image_size = (image_width, image_height)\n",
    "\n",
    "datagen = ImageDataGenerator()\n",
    "\n",
    "train_dir = os.path.join(DATA_DIR, 'omniglot_keras/images_background') # python/\n",
    "\n",
    "train_generator = datagen.flow_from_directory(\n",
    "        train_dir,  target_size=image_size,\n",
    "        batch_size = 19280,\n",
    "        class_mode='sparse', color_mode=\"grayscale\",\n",
    "        shuffle=True)\n",
    "\n",
    "test_dir = os.path.join(DATA_DIR, 'omniglot_keras/images_evaluation')\n",
    "\n",
    "test_generator = datagen.flow_from_directory(\n",
    "        test_dir,  target_size=image_size, # this is the target directory\n",
    "        batch_size = 13180, color_mode=\"grayscale\",\n",
    "        class_mode='sparse')"
   ]
  },
  {
   "cell_type": "code",
   "execution_count": 7,
   "metadata": {
    "collapsed": true
   },
   "outputs": [],
   "source": [
    "X_train, y_train = train_generator.next()\n",
    "X_val, y_val = test_generator.next()"
   ]
  },
  {
   "cell_type": "code",
   "execution_count": 8,
   "metadata": {
    "collapsed": true
   },
   "outputs": [],
   "source": [
    "from utils import get_alphabet_to_index\n",
    "val_alphabet_to_index = get_alphabet_to_index(test_generator)\n",
    "train_alphabet_to_index = get_alphabet_to_index(train_generator)"
   ]
  },
  {
   "cell_type": "code",
   "execution_count": 9,
   "metadata": {
    "collapsed": true,
    "scrolled": true
   },
   "outputs": [],
   "source": [
    "to_plot = X_train[np.where(y_train == 0)[0]]\n",
    "for i in range(20):\n",
    "    plt.subplot(4, 5, i+1)\n",
    "    plt.axis('off')\n",
    "    plt.imshow(to_plot[i][:,:,0], cmap = 'gray', interpolation=\"nearest\")"
   ]
  },
  {
   "cell_type": "markdown",
   "metadata": {},
   "source": [
    "# Build the convolutional neural network"
   ]
  },
  {
   "cell_type": "code",
   "execution_count": 10,
   "metadata": {
    "scrolled": false
   },
   "outputs": [
    {
     "name": "stdout",
     "output_type": "stream",
     "text": [
      "_________________________________________________________________\n",
      "Layer (type)                 Output Shape              Param #   \n",
      "=================================================================\n",
      "conv2d_1 (Conv2D)            (None, 96, 96, 64)        6464      \n",
      "_________________________________________________________________\n",
      "max_pooling2d_1 (MaxPooling2 (None, 48, 48, 64)        0         \n",
      "_________________________________________________________________\n",
      "conv2d_2 (Conv2D)            (None, 42, 42, 128)       401536    \n",
      "_________________________________________________________________\n",
      "max_pooling2d_2 (MaxPooling2 (None, 21, 21, 128)       0         \n",
      "_________________________________________________________________\n",
      "conv2d_3 (Conv2D)            (None, 18, 18, 128)       262272    \n",
      "_________________________________________________________________\n",
      "max_pooling2d_3 (MaxPooling2 (None, 9, 9, 128)         0         \n",
      "_________________________________________________________________\n",
      "conv2d_4 (Conv2D)            (None, 6, 6, 256)         524544    \n",
      "_________________________________________________________________\n",
      "flatten_1 (Flatten)          (None, 9216)              0         \n",
      "_________________________________________________________________\n",
      "dropout_1 (Dropout)          (None, 9216)              0         \n",
      "_________________________________________________________________\n",
      "embedding (Dense)            (None, 4096)              37752832  \n",
      "=================================================================\n",
      "Total params: 38,947,648\n",
      "Trainable params: 38,947,648\n",
      "Non-trainable params: 0\n",
      "_________________________________________________________________\n",
      "None\n"
     ]
    }
   ],
   "source": [
    "from keras.regularizers import l2\n",
    "from keras.initializers import RandomNormal\n",
    "\n",
    "W_init = RandomNormal(mean=0, stddev=1e-2) #'glorot_uniform'\n",
    "b_init = RandomNormal(mean= 0.5, stddev=1e-2)\n",
    "W_dense_init = RandomNormal(mean=0, stddev = 2e-1)\n",
    "\n",
    "input_shape = (105, 105, 1)\n",
    "reg, reg1 = 1e-3, 2e-3\n",
    "#build convnet to use in each siamese 'leg'\n",
    "convnet = Sequential(name=\"convnet\")\n",
    "convnet.add(Conv2D(64, (10,10), activation='relu',input_shape=input_shape,\n",
    "                   kernel_initializer=W_init, bias_initializer=b_init, kernel_regularizer=l2(reg)))\n",
    "convnet.add(MaxPooling2D())\n",
    "convnet.add(Conv2D(128, (7,7), activation='relu', kernel_regularizer=l2(reg),\n",
    "                   kernel_initializer=W_init))\n",
    "convnet.add(MaxPooling2D())\n",
    "convnet.add(Conv2D(128,(4,4),activation='relu',kernel_initializer=W_init, bias_initializer=b_init, \n",
    "                   kernel_regularizer=l2(reg)))\n",
    "convnet.add(MaxPooling2D())\n",
    "convnet.add(Conv2D(256,(4,4),activation='relu',kernel_initializer=W_init, bias_initializer=b_init, \n",
    "                   kernel_regularizer=l2(reg)))\n",
    "convnet.add(Flatten())\n",
    "convnet.add(Dropout(0.5))\n",
    "convnet.add(Dense(4096,activation=\"sigmoid\", kernel_regularizer=l2(reg1),kernel_initializer=W_dense_init, \n",
    "                  bias_initializer=b_init, name = \"embedding\"))\n",
    "print(convnet.summary())"
   ]
  },
  {
   "cell_type": "markdown",
   "metadata": {},
   "source": [
    "## Define the loss functions for the siamese and triplet network"
   ]
  },
  {
   "cell_type": "code",
   "execution_count": 11,
   "metadata": {
    "collapsed": true
   },
   "outputs": [],
   "source": [
    "def l2_norm(x):\n",
    "    return K.sqrt(K.sum(K.square(x)))\n",
    "\n",
    "MARGIN = 0.2\n",
    "def triplet_loss(y_true, y_pred): # \n",
    "    return K.mean(K.maximum(0.0, y_pred + MARGIN) - y_true * 0, axis = -1)\n",
    "\n",
    "\n",
    "def contrastive_loss(y_true, y_pred):\n",
    "    '''Contrastive loss from Hadsell-et-al.'06\n",
    "    http://yann.lecun.com/exdb/publis/pdf/hadsell-chopra-lecun-06.pdf\n",
    "    '''\n",
    "    margin = 1\n",
    "    return K.mean((1 - y_true) * K.square(y_pred) +\n",
    "                  y_true * K.square(K.maximum(margin - y_pred, 0)))"
   ]
  },
  {
   "cell_type": "markdown",
   "metadata": {},
   "source": [
    "## Define the siamese network built using the conv net defined above"
   ]
  },
  {
   "cell_type": "code",
   "execution_count": 12,
   "metadata": {},
   "outputs": [
    {
     "name": "stdout",
     "output_type": "stream",
     "text": [
      "____________________________________________________________________________________________________\n",
      "Layer (type)                     Output Shape          Param #     Connected to                     \n",
      "====================================================================================================\n",
      "input_1 (InputLayer)             (None, 105, 105, 1)   0                                            \n",
      "____________________________________________________________________________________________________\n",
      "input_2 (InputLayer)             (None, 105, 105, 1)   0                                            \n",
      "____________________________________________________________________________________________________\n",
      "convnet (Sequential)             (None, 4096)          38947648    input_1[0][0]                    \n",
      "                                                                   input_2[0][0]                    \n",
      "____________________________________________________________________________________________________\n",
      "diff (Subtract)                  (None, 4096)          0           convnet[1][0]                    \n",
      "                                                                   convnet[2][0]                    \n",
      "____________________________________________________________________________________________________\n",
      "abs (Lambda)                     (None, 4096)          0           diff[0][0]                       \n",
      "____________________________________________________________________________________________________\n",
      "output (Dense)                   (None, 1)             4097        abs[0][0]                        \n",
      "====================================================================================================\n",
      "Total params: 38,951,745\n",
      "Trainable params: 38,951,745\n",
      "Non-trainable params: 0\n",
      "____________________________________________________________________________________________________\n"
     ]
    }
   ],
   "source": [
    "left_input = Input(input_shape, name=\"input_1\")\n",
    "encoded_l = convnet(left_input)\n",
    "# with tf.device('/gpu:1'):\n",
    "right_input = Input(input_shape, name=\"input_2\")\n",
    "encoded_r  = convnet(right_input)\n",
    "\n",
    "# merge two encoded inputs with a distance metric\n",
    "diff = Subtract(name=\"diff\")([encoded_l,encoded_r])\n",
    "both = Lambda(lambda x : K.abs(x), output_shape = lambda x: x, name=\"abs\")(diff)\n",
    "prediction = Dense(1, activation='sigmoid', bias_initializer = b_init, name=\"output\")(both)\n",
    "\n",
    "siamese_net = Model(inputs=[left_input, right_input],outputs=prediction, name=\"siamese_net\")\n",
    "siamese_net.summary()\n",
    "os.system(\"rm {}\".format(INIT_WEIGHTS))\n",
    "siamese_net.save_weights(INIT_WEIGHTS)"
   ]
  },
  {
   "cell_type": "code",
   "execution_count": 13,
   "metadata": {
    "collapsed": true
   },
   "outputs": [],
   "source": [
    "from keras.callbacks import ReduceLROnPlateau, ModelCheckpoint, EarlyStopping, LearningRateScheduler\n",
    "reduce_lr = ReduceLROnPlateau(monitor='val_acc', factor=0.8,\n",
    "              patience=1, verbose = 1, min_lr=1e-8)\n",
    "early_stopping = EarlyStopping(monitor='val_acc',\n",
    "                              min_delta=1e-4,\n",
    "                              patience=25,\n",
    "                              verbose=0, mode='auto')\n",
    "checkpointer = ModelCheckpoint(filepath=CHECKPOINTED_WEIGHTS, verbose=1, save_best_only=True, monitor='oneshot_acc')"
   ]
  },
  {
   "cell_type": "code",
   "execution_count": 14,
   "metadata": {
    "collapsed": true
   },
   "outputs": [],
   "source": [
    "from keras.callbacks import Callback\n",
    "\n",
    "class LossHistory(Callback):\n",
    "    \n",
    "    def __init__(self, X_val, y_val, alphabets={}):\n",
    "        self.X_val = X_val\n",
    "        self.y_val = y_val\n",
    "        self.alphabets = alphabets\n",
    "        self.matches = {}\n",
    "        for x in np.unique(y_val):\n",
    "            self.matches[x] = np.where(y_val == x)[0]\n",
    "        self.true_indices = np.arange(20)\n",
    "        self.one_shot_indices = list(self.one_shot_task(alph) for alph in self.alphabets)\n",
    "\n",
    "    def on_epoch_end(self, epoch, logs={}):\n",
    "        one_shot_acc = self.one_shot_acc()\n",
    "        logs['oneshot_acc'] = one_shot_acc\n",
    "        print(\" oneshot_acc - {}\".format(one_shot_acc))\n",
    "        \n",
    "    def one_shot_acc(self):\n",
    "        acc = [self.compute_acc(index[0], index[1]) for index in self.one_shot_indices]\n",
    "        return np.mean(acc)\n",
    "    \n",
    "    def compute_acc(self, support, test):\n",
    "        X_support, X_test = self.X_val[support], self.X_val[test]\n",
    "        class_indices = self.compute_pred_class(X_test, X_support)\n",
    "        return (np.sum(class_indices == self.true_indices))/20.0\n",
    "\n",
    "    def one_shot_task(self, alph):\n",
    "        class_arr = self.alphabets[alph]\n",
    "        sample_classes = np.random.choice(class_arr, 20, replace = False)\n",
    "        train_arr, test_arr = [], []\n",
    "        drawers = np.random.choice(20, 2, replace = False)\n",
    "        support_arr = [self.matches[x][drawers[0]] for x in sample_classes] \n",
    "        test_arr = [self.matches[x][drawers[1]] for x in sample_classes]\n",
    "        return (support_arr, test_arr)\n",
    "        \n",
    "    def kernel(self, x, y):\n",
    "        return self.model.predict([x, y]).ravel()\n",
    "\n",
    "    def compute_pred_class(self, X, Y):\n",
    "        n = Y.shape[0]\n",
    "        columns = (np.array([x] * n) for x in X)    \n",
    "        pred_classes = np.array([np.argmax(self.kernel(col, Y)) for col in columns])\n",
    "        return pred_classes"
   ]
  },
  {
   "cell_type": "code",
   "execution_count": 15,
   "metadata": {
    "collapsed": true
   },
   "outputs": [],
   "source": [
    "val_alphs = val_alphabet_to_index.keys()\n",
    "val_partial = val_alphs[:len(val_alphs)//2]\n",
    "val_one_shot = set([x for alp in val_partial for x in val_alphabet_to_index[alp]])"
   ]
  },
  {
   "cell_type": "code",
   "execution_count": 18,
   "metadata": {
    "collapsed": true
   },
   "outputs": [],
   "source": [
    "val_oneshot = [i for i in range(len(y_val)) if y_val[i] in val_one_shot]\n",
    "val_train = [i for i in range(len(y_val)) if y_val[i] not in val_one_shot]\n",
    "\n",
    "val_oneshot_index = {k : val_alphabet_to_index[k] for k in val_partial}\n",
    "val_train_index = {k : v for k, v in val_alphabet_to_index.iteritems() if k not in val_partial}\n",
    "loss_history = LossHistory(X_val[val_oneshot], y_val[val_oneshot], val_oneshot_index)"
   ]
  },
  {
   "cell_type": "markdown",
   "metadata": {},
   "source": [
    "### Create the data generator to load batches of data"
   ]
  },
  {
   "cell_type": "code",
   "execution_count": 19,
   "metadata": {},
   "outputs": [
    {
     "name": "stdout",
     "output_type": "stream",
     "text": [
      "Generating Training Pairs..\n",
      "Generating Validation Pairs..\n"
     ]
    }
   ],
   "source": [
    "import utils; reload(utils)\n",
    "from utils import DataGenerator\n",
    "\n",
    "NUM_TRAIN_PAIRS = 150000\n",
    "NUM_VAL_PAIRS = 10000\n",
    "BATCH_SIZE = 128\n",
    "datagen = DataGenerator(X_train, y_train, num_train_pairs = NUM_TRAIN_PAIRS,\n",
    "                        num_val_pairs = NUM_VAL_PAIRS, X_val = X_val[val_train],\n",
    "                        train_alphabet_to_index = train_alphabet_to_index,\n",
    "                        val_alphabet_to_index = val_train_index,\n",
    "                        y_val = y_val[val_train], batch_sz = BATCH_SIZE, verbose = True)\n",
    "datagen.create_data_transformer(rotation_range=10, width_shift_range=0.01, \n",
    "                              height_shift_range=0.01, shear_range=0.01)"
   ]
  },
  {
   "cell_type": "code",
   "execution_count": 20,
   "metadata": {},
   "outputs": [],
   "source": [
    "STEPS_PER_EPOCH = NUM_TRAIN_PAIRS // BATCH_SIZE\n",
    "VALIDATION_STEPS = NUM_VAL_PAIRS // BATCH_SIZE "
   ]
  },
  {
   "cell_type": "code",
   "execution_count": 37,
   "metadata": {},
   "outputs": [],
   "source": [
    "from keras.optimizers import Adam, SGD\n",
    "learning_rate = 5e-3\n",
    "# adam = Adam(learning_rate)\n",
    "sgd = SGD(lr=learning_rate, decay=5e-3, momentum=0.9, nesterov=True)\n",
    "# scheduler = LearningRateScheduler(lambda epoch : learning_rate * pow(1.02, epoch))"
   ]
  },
  {
   "cell_type": "code",
   "execution_count": 35,
   "metadata": {
    "collapsed": true
   },
   "outputs": [],
   "source": [
    "siamese_net.compile(loss='binary_crossentropy', optimizer=sgd, metrics=['accuracy'])\n",
    "siamese_net.load_weights(INIT_WEIGHTS)\n",
    "# siamese_net.load_weights(CHECKPOINTED_WEIGHTS)"
   ]
  },
  {
   "cell_type": "code",
   "execution_count": 51,
   "metadata": {
    "collapsed": true
   },
   "outputs": [],
   "source": [
    "WEIGHTS_PATH = \"/home/rishabh/siamese/keras-oneshot/weights\"\n",
    "# siamese_net.load_weights(WEIGHTS_PATH)"
   ]
  },
  {
   "cell_type": "code",
   "execution_count": 38,
   "metadata": {},
   "outputs": [
    {
     "name": "stdout",
     "output_type": "stream",
     "text": [
      "Epoch 1/500\n",
      "1170/1171 [============================>.] - ETA: 0s - loss: 7.0108 - acc: 0.5005 oneshot_acc - 0.05\n",
      "Epoch 00000: oneshot_acc did not improve\n",
      "1171/1171 [==============================] - 164s - loss: 7.0100 - acc: 0.5005 - val_loss: 6.1181 - val_acc: 0.4998\n",
      "Epoch 2/500\n",
      "1170/1171 [============================>.] - ETA: 0s - loss: 5.4362 - acc: 0.5000 oneshot_acc - 0.05\n",
      "Epoch 00001: oneshot_acc did not improve\n",
      "1171/1171 [==============================] - 165s - loss: 5.4356 - acc: 0.5000 - val_loss: 4.8326 - val_acc: 0.5008\n",
      "Epoch 3/500\n",
      "1170/1171 [============================>.] - ETA: 0s - loss: 4.3589 - acc: 0.4973 oneshot_acc - 0.05\n",
      "Epoch 00002: oneshot_acc did not improve\n",
      "1171/1171 [==============================] - 165s - loss: 4.3585 - acc: 0.4974 - val_loss: 3.9346 - val_acc: 0.5001\n",
      "Epoch 4/500\n",
      "1170/1171 [============================>.] - ETA: 0s - loss: 3.5942 - acc: 0.4991\n",
      "Epoch 00003: reducing learning rate to 0.0255999982357.\n",
      " oneshot_acc - 0.05\n",
      "Epoch 00003: oneshot_acc did not improve\n",
      "1171/1171 [==============================] - 165s - loss: 3.5939 - acc: 0.4991 - val_loss: 3.2862 - val_acc: 0.5004\n",
      "Epoch 5/500\n",
      "1170/1171 [============================>.] - ETA: 0s - loss: 3.0815 - acc: 0.5005\n",
      "Epoch 00004: reducing learning rate to 0.0204799979925.\n",
      " oneshot_acc - 0.05\n",
      "Epoch 00004: oneshot_acc did not improve\n",
      "1171/1171 [==============================] - 165s - loss: 3.0814 - acc: 0.5006 - val_loss: 2.8929 - val_acc: 0.4998\n",
      "Epoch 6/500\n",
      "1170/1171 [============================>.] - ETA: 0s - loss: 2.7627 - acc: 0.4998\n",
      "Epoch 00005: reducing learning rate to 0.016383998096.\n",
      " oneshot_acc - 0.05\n",
      "Epoch 00005: oneshot_acc did not improve\n",
      "1171/1171 [==============================] - 165s - loss: 2.7626 - acc: 0.4998 - val_loss: 2.6407 - val_acc: 0.5004\n",
      "Epoch 7/500\n",
      "1170/1171 [============================>.] - ETA: 0s - loss: 2.5540 - acc: 0.5005\n",
      "Epoch 00006: reducing learning rate to 0.0131071984768.\n",
      " oneshot_acc - 0.05\n",
      "Epoch 00006: oneshot_acc did not improve\n",
      "1171/1171 [==============================] - 165s - loss: 2.5539 - acc: 0.5005 - val_loss: 2.4718 - val_acc: 0.4995\n",
      "Epoch 8/500\n",
      "1170/1171 [============================>.] - ETA: 0s - loss: 2.4122 - acc: 0.4986\n",
      "Epoch 00007: reducing learning rate to 0.0104857586324.\n",
      " oneshot_acc - 0.05\n",
      "Epoch 00007: oneshot_acc did not improve\n",
      "1171/1171 [==============================] - 165s - loss: 2.4121 - acc: 0.4986 - val_loss: 2.3551 - val_acc: 0.4987\n",
      "Epoch 9/500\n",
      "1170/1171 [============================>.] - ETA: 0s - loss: 2.3130 - acc: 0.4994\n",
      "Epoch 00008: reducing learning rate to 0.00838860720396.\n",
      " oneshot_acc - 0.05\n",
      "Epoch 00008: oneshot_acc did not improve\n",
      "1171/1171 [==============================] - 165s - loss: 2.3130 - acc: 0.4994 - val_loss: 2.2725 - val_acc: 0.5008\n",
      "Epoch 10/500\n",
      "1170/1171 [============================>.] - ETA: 0s - loss: 2.2422 - acc: 0.4993\n",
      "Epoch 00009: reducing learning rate to 0.00671088546515.\n",
      " oneshot_acc - 0.05\n",
      "Epoch 00009: oneshot_acc did not improve\n",
      "1171/1171 [==============================] - 165s - loss: 2.2422 - acc: 0.4993 - val_loss: 2.2129 - val_acc: 0.5004\n",
      "Epoch 11/500\n",
      "1170/1171 [============================>.] - ETA: 0s - loss: 2.1908 - acc: 0.4999\n",
      "Epoch 00010: reducing learning rate to 0.00536870844662.\n",
      " oneshot_acc - 0.05\n",
      "Epoch 00010: oneshot_acc did not improve\n",
      "1171/1171 [==============================] - 165s - loss: 2.1908 - acc: 0.4999 - val_loss: 2.1693 - val_acc: 0.4999\n",
      "Epoch 12/500\n",
      "1170/1171 [============================>.] - ETA: 0s - loss: 2.1530 - acc: 0.4977\n",
      "Epoch 00011: reducing learning rate to 0.00429496690631.\n",
      " oneshot_acc - 0.05\n",
      "Epoch 00011: oneshot_acc did not improve\n",
      "1171/1171 [==============================] - 165s - loss: 2.1530 - acc: 0.4977 - val_loss: 2.1371 - val_acc: 0.5001\n",
      "Epoch 13/500\n",
      "1170/1171 [============================>.] - ETA: 0s - loss: 2.1249 - acc: 0.4985\n",
      "Epoch 00012: reducing learning rate to 0.00343597345054.\n",
      " oneshot_acc - 0.05\n",
      "Epoch 00012: oneshot_acc did not improve\n",
      "1171/1171 [==============================] - 165s - loss: 2.1249 - acc: 0.4985 - val_loss: 2.1130 - val_acc: 0.5004\n",
      "Epoch 14/500\n",
      "1170/1171 [============================>.] - ETA: 0s - loss: 2.1039 - acc: 0.4981\n",
      "Epoch 00013: reducing learning rate to 0.00274877883494.\n",
      " oneshot_acc - 0.05\n",
      "Epoch 00013: oneshot_acc did not improve\n",
      "1171/1171 [==============================] - 165s - loss: 2.1039 - acc: 0.4981 - val_loss: 2.0949 - val_acc: 0.4999\n",
      "Epoch 15/500\n",
      "1170/1171 [============================>.] - ETA: 0s - loss: 2.0880 - acc: 0.4993\n",
      "Epoch 00014: reducing learning rate to 0.0021990230307.\n",
      " oneshot_acc - 0.05\n",
      "Epoch 00014: oneshot_acc did not improve\n",
      "1171/1171 [==============================] - 165s - loss: 2.0880 - acc: 0.4992 - val_loss: 2.0812 - val_acc: 0.4998\n",
      "Epoch 16/500\n",
      "1170/1171 [============================>.] - ETA: 0s - loss: 2.0760 - acc: 0.4998\n",
      "Epoch 00015: reducing learning rate to 0.00175921842456.\n",
      " oneshot_acc - 0.05\n",
      "Epoch 00015: oneshot_acc did not improve\n",
      "1171/1171 [==============================] - 165s - loss: 2.0760 - acc: 0.4997 - val_loss: 2.0709 - val_acc: 0.5004\n",
      "Epoch 17/500\n",
      "1170/1171 [============================>.] - ETA: 0s - loss: 2.0669 - acc: 0.4993\n",
      "Epoch 00016: reducing learning rate to 0.00140737472102.\n",
      " oneshot_acc - 0.05\n",
      "Epoch 00016: oneshot_acc did not improve\n",
      "1171/1171 [==============================] - 165s - loss: 2.0669 - acc: 0.4993 - val_loss: 2.0630 - val_acc: 0.4999\n",
      "Epoch 18/500\n",
      "1170/1171 [============================>.] - ETA: 0s - loss: 2.0599 - acc: 0.4983\n",
      "Epoch 00017: reducing learning rate to 0.00112589979544.\n",
      " oneshot_acc - 0.05\n",
      "Epoch 00017: oneshot_acc did not improve\n",
      "1171/1171 [==============================] - 165s - loss: 2.0599 - acc: 0.4982 - val_loss: 2.0569 - val_acc: 0.4998\n",
      "Epoch 19/500\n",
      "1170/1171 [============================>.] - ETA: 0s - loss: 2.0546 - acc: 0.4993\n",
      "Epoch 00018: reducing learning rate to 0.000900719873607.\n",
      " oneshot_acc - 0.05\n",
      "Epoch 00018: oneshot_acc did not improve\n",
      "1171/1171 [==============================] - 165s - loss: 2.0546 - acc: 0.4994 - val_loss: 2.0523 - val_acc: 0.5002\n",
      "Epoch 20/500\n",
      "1170/1171 [============================>.] - ETA: 0s - loss: 2.0505 - acc: 0.4990\n",
      "Epoch 00019: reducing learning rate to 0.000720575917512.\n",
      " oneshot_acc - 0.05\n",
      "Epoch 00019: oneshot_acc did not improve\n",
      "1171/1171 [==============================] - 165s - loss: 2.0505 - acc: 0.4990 - val_loss: 2.0488 - val_acc: 0.5005\n",
      "Epoch 21/500\n",
      "1170/1171 [============================>.] - ETA: 0s - loss: 2.0474 - acc: 0.5003\n",
      "Epoch 00020: reducing learning rate to 0.00057646073401.\n",
      " oneshot_acc - 0.05\n",
      "Epoch 00020: oneshot_acc did not improve\n",
      "1171/1171 [==============================] - 165s - loss: 2.0474 - acc: 0.5002 - val_loss: 2.0460 - val_acc: 0.4995\n",
      "Epoch 22/500\n",
      "1170/1171 [============================>.] - ETA: 0s - loss: 2.0449 - acc: 0.4973\n",
      "Epoch 00021: reducing learning rate to 0.000461168587208.\n",
      " oneshot_acc - 0.05\n",
      "Epoch 00021: oneshot_acc did not improve\n",
      "1171/1171 [==============================] - 165s - loss: 2.0449 - acc: 0.4973 - val_loss: 2.0439 - val_acc: 0.5007\n",
      "Epoch 23/500\n",
      "1170/1171 [============================>.] - ETA: 0s - loss: 2.0430 - acc: 0.4976\n",
      "Epoch 00022: reducing learning rate to 0.000368934869766.\n",
      " oneshot_acc - 0.05\n",
      "Epoch 00022: oneshot_acc did not improve\n",
      "1171/1171 [==============================] - 165s - loss: 2.0430 - acc: 0.4976 - val_loss: 2.0422 - val_acc: 0.5002\n",
      "Epoch 24/500\n",
      "1170/1171 [============================>.] - ETA: 0s - loss: 2.0416 - acc: 0.4998\n",
      "Epoch 00023: reducing learning rate to 0.000295147905126.\n",
      " oneshot_acc - 0.05\n",
      "Epoch 00023: oneshot_acc did not improve\n",
      "1171/1171 [==============================] - 165s - loss: 2.0416 - acc: 0.4998 - val_loss: 2.0410 - val_acc: 0.5006\n",
      "Epoch 25/500\n",
      "1170/1171 [============================>.] - ETA: 0s - loss: 2.0405 - acc: 0.4981\n",
      "Epoch 00024: reducing learning rate to 0.000236118328758.\n",
      " oneshot_acc - 0.05\n",
      "Epoch 00024: oneshot_acc did not improve\n",
      "1171/1171 [==============================] - 165s - loss: 2.0405 - acc: 0.4981 - val_loss: 2.0401 - val_acc: 0.4996\n",
      "Epoch 26/500\n",
      "1170/1171 [============================>.] - ETA: 0s - loss: 2.0397 - acc: 0.4993\n",
      "Epoch 00025: reducing learning rate to 0.000188894663006.\n"
     ]
    },
    {
     "name": "stdout",
     "output_type": "stream",
     "text": [
      " oneshot_acc - 0.05\n",
      "Epoch 00025: oneshot_acc did not improve\n",
      "1171/1171 [==============================] - 165s - loss: 2.0397 - acc: 0.4993 - val_loss: 2.0394 - val_acc: 0.4996\n",
      "Epoch 27/500\n",
      "1170/1171 [============================>.] - ETA: 0s - loss: 2.0391 - acc: 0.4994\n",
      "Epoch 00026: reducing learning rate to 0.000151115725748.\n",
      " oneshot_acc - 0.05\n",
      "Epoch 00026: oneshot_acc did not improve\n",
      "1171/1171 [==============================] - 165s - loss: 2.0391 - acc: 0.4993 - val_loss: 2.0388 - val_acc: 0.4999\n",
      "Epoch 28/500\n",
      "1170/1171 [============================>.] - ETA: 0s - loss: 2.0386 - acc: 0.4998\n",
      "Epoch 00027: reducing learning rate to 0.000120892585255.\n",
      " oneshot_acc - 0.05\n",
      "Epoch 00027: oneshot_acc did not improve\n",
      "1171/1171 [==============================] - 165s - loss: 2.0386 - acc: 0.4999 - val_loss: 2.0384 - val_acc: 0.4985\n"
     ]
    }
   ],
   "source": [
    "history = siamese_net.fit_generator(\n",
    "        datagen.next_train(),\n",
    "        steps_per_epoch=STEPS_PER_EPOCH,\n",
    "        epochs=500,\n",
    "        validation_data = datagen.next_val(),\n",
    "        validation_steps = VALIDATION_STEPS,\n",
    "        callbacks = [reduce_lr, early_stopping, loss_history, checkpointer])"
   ]
  },
  {
   "cell_type": "code",
   "execution_count": 33,
   "metadata": {},
   "outputs": [
    {
     "data": {
      "image/png": "[encoded data removed]",
      "text/plain": [
       "<matplotlib.figure.Figure at 0x7f7c9caaf050>"
      ]
     },
     "metadata": {},
     "output_type": "display_data"
    }
   ],
   "source": [
    "% matplotlib inline\n",
    "f, (ax1, ax2) = plt.subplots(1, 2, sharey=True)\n",
    "f.set_figheight(8)\n",
    "f.set_figwidth(14)\n",
    "\n",
    "ax1.plot(history.history['loss'])\n",
    "ax1.set_title('model loss')\n",
    "ax1.set_ylabel('loss')\n",
    "ax1.set_xlabel('epoch')\n",
    "ax1.legend(['train_loss' 'val'], loc='upper left')\n",
    "\n",
    "ax2.plot(history.history['acc'])\n",
    "# ax2.plot(history.history['val_acc'])\n",
    "ax2.set_title('model acc')\n",
    "ax2.set_ylabel('acc')\n",
    "ax2.set_xlabel('epoch')\n",
    "ax2.legend(['train_acc' 'val'], loc='upper left')\n",
    "\n",
    "f.savefig('siamese_omniglot.png')"
   ]
  },
  {
   "cell_type": "code",
   "execution_count": null,
   "metadata": {
    "collapsed": true
   },
   "outputs": [],
   "source": [
    "siamese_net.load_weights(CHECKPOINTED_WEIGHTS)\n",
    "for layer in siamese_net.layers:\n",
    "    layer.trainable = False\n",
    "siamese_net.summary()\n",
    "siamese_net.save(os.path.join(DATA_DIR, 'siamese_omniglot1.h5'))"
   ]
  },
  {
   "cell_type": "code",
   "execution_count": null,
   "metadata": {
    "collapsed": true
   },
   "outputs": [],
   "source": [
    "from keras.models import load_model\n",
    "siamese_net = load_model(os.path.join(DATA_DIR, 'siamese_omniglot.h5'))\n",
    "siamese_net.compile(loss='binary_crossentropy', optimizer='adam', metrics=['accuracy'])"
   ]
  },
  {
   "cell_type": "code",
   "execution_count": null,
   "metadata": {
    "collapsed": true
   },
   "outputs": [],
   "source": [
    "history = siamese_net.evaluate_generator(datagen.next_val(),\n",
    "        steps=VALIDATION_STEPS)\n",
    "print(\"Loss {} Accuracy {}\".format(history[0], history[1]))"
   ]
  }
 ],
 "metadata": {
  "kernelspec": {
   "display_name": "Python 2",
   "language": "python",
   "name": "python2"
  },
  "language_info": {
   "codemirror_mode": {
    "name": "ipython",
    "version": 2
   },
   "file_extension": ".py",
   "mimetype": "text/x-python",
   "name": "python",
   "nbconvert_exporter": "python",
   "pygments_lexer": "ipython2",
   "version": "2.7.12"
  }
 },
 "nbformat": 4,
 "nbformat_minor": 2
}
